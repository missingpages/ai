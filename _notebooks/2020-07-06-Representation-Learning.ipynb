{
 "cells": [
  {
   "cell_type": "markdown",
   "metadata": {},
   "source": [
    "# \"Representation Learning\"\n",
    "> \"An overview of representation learning\"\n",
    "\n",
    "- toc: true\n",
    "- branch: master\n",
    "- badges: true\n",
    "- comments: true\n",
    "- categories: [fastpages, jupyter]\n",
    "- image: images/repl_title.jpg\n",
    "- hide: false\n",
    "- search_exclude: true\n",
    "- metadata_key1: metadata_value1\n",
    "- metadata_key2: metadata_value2"
   ]
  },
  {
   "cell_type": "markdown",
   "metadata": {},
   "source": [
    "\n",
    "## About\n",
    "\n",
    "Representation learning is the process of learning/extracting meaningful representations to make the computations of subsequent ML tasks easier. \n",
    "\n",
    "### Why we need good representations?\n",
    "\n",
    "Success of any machine learning method depends on the representation of data. Better the representation, easier for the machine learning algorithm to interpret the data, to produce accurate results. \n",
    "\n",
    "Assume you are asked to write a program, that should return \"True\" if the input no is divisible by 2, otherwise \"False\". Just think how you would write it.\n",
    "\n",
    "Now if i pass the input no as a \"Roman numeral\" (say XXVIII representing 28) would your program still output correct result?\n",
    "\n",
    "Most of our programs struggle to interpret the representation and so may fail to give desired results. However if the input is represented as decimal integer, the output would be correct\n",
    "\n"
   ]
  },
  {
   "cell_type": "markdown",
   "metadata": {},
   "source": [
    "\n"
   ]
  },
  {
   "cell_type": "markdown",
   "metadata": {},
   "source": [
    "![](my_icons/image1.jpg)"
   ]
  },
  {
   "cell_type": "markdown",
   "metadata": {},
   "source": [
    "In the same way, ML algorithms would also NOT produce accurate results if the data represenation is not good."
   ]
  },
  {
   "cell_type": "markdown",
   "metadata": {},
   "source": [
    "### what if the representation is not learnt?\n"
   ]
  },
  {
   "cell_type": "markdown",
   "metadata": {},
   "source": [
    "Think about classic ML algorithms like Decision trees, Random forests, Naive bayes etc. They dont learn representations from input data. All they do is map input features to output in their own way.\n",
    "Without learning representations, these algorithms rely on Feature Engineering \n",
    "\n",
    "Feature Engineering ensures selection of data features that are important to achieve the particular ML task.\n",
    "With feature engineering, the human knowledge about the task, especially the factors influencing/causing the tasks are passed on to the ML algorithm\n",
    "    \n",
    "> For eg. Lets take the example of IRIS flower classification task.Algorithms would struggle to classify if the features are irrelevant. It is beacuse the features were carefully chosen with the help of the domain experts (thanks to feature engineering) the algorithms could predict decently. "
   ]
  },
  {
   "cell_type": "markdown",
   "metadata": {},
   "source": [
    "![](my_icons/image6.jpg)"
   ]
  },
  {
   "cell_type": "markdown",
   "metadata": {},
   "source": [
    "Feature engineering has certain limitations:\n",
    "- FE cannot be carried for a task where minimal domain knowledge exists\n",
    "- Difficult to extract features from high dimensional, raw data eg. machine logs\n",
    "- Very time consuming process\n",
    "- Depends on domain knowledge"
   ]
  },
  {
   "cell_type": "markdown",
   "metadata": {},
   "source": [
    "Feature engineering only guarantee the important features are taken for the task. But that alone doesnot help. It is equally important to have the features represented in a meaningful way"
   ]
  },
  {
   "cell_type": "markdown",
   "metadata": {},
   "source": [
    "Lets look at few scenarios where classic ML methods that donot learn representations suffer -"
   ]
  },
  {
   "cell_type": "markdown",
   "metadata": {},
   "source": [
    "+ Generalization\n",
    "\n",
    "    Algorithms that donot learn representations, do not generalize beyond the scope of problem / task.\n",
    "\n",
    "    For eg: Say we have trained a Random Forest algorithm to classify Iris flowers. The algorithm would be able to     classify correctly even for the data points it has not seen. That means, it is able to perform generalization within the scope of task.\n",
    "\n",
    "    But the mapping or knowledge it has learnt, cannot be used for classifying other types of flowers eventhough same features are taken into consideration"
   ]
  },
  {
   "cell_type": "markdown",
   "metadata": {},
   "source": [
    "+ Vast Sample Space & Complex relationships\n",
    "\n",
    "   Think of an image Classification problem, where each pixel (across RGB channels) is a feature taking value between 0 and 255. Sample space of Image domain is so vast that it is nearly impossible to capture the complex non linear relationships exists between input and output without learning intermediate/abstract representations"
   ]
  },
  {
   "cell_type": "markdown",
   "metadata": {},
   "source": [
    "+ Condition dependence\n",
    "\n",
    "   If there exist a conditional dependence between input features, the algorithms would suffer to interpret and produce correct results, without learning representations.\n",
    "   \n",
    "   For eg: Images, text, audio etc\n",
    "   \n",
    "   Objects in images are created by combination of pixels and hence the pixel values are highly corelated.Classic ML methods would not be able to model this conditional dependence.\n",
    "   "
   ]
  },
  {
   "cell_type": "markdown",
   "metadata": {},
   "source": [
    "The above said problems can be solved by learning representations from data, and then derive output from the representations. This is how deep learning do!"
   ]
  },
  {
   "cell_type": "markdown",
   "metadata": {},
   "source": [
    "### Deep Learning"
   ]
  },
  {
   "cell_type": "markdown",
   "metadata": {},
   "source": [
    "We need a model that can infer meaningful structure from input data. This is where deep learning excels.\n",
    "So the term 'Representation learning' is often used in synonymous with Deep learning.\n",
    "\n",
    "Core idea behind representation learning is\n",
    "- map high dimensional sample space to low dimensional latent space . The latent space is a \"Representation\"\n",
    "- Learn a mapping from low dimensional latent space to actual output domain"
   ]
  },
  {
   "cell_type": "markdown",
   "metadata": {},
   "source": [
    "With this representation learning, we dont have to directly map the high dimensional sample space to features. Rather we learn abstract representations and use that to derive outputs."
   ]
  },
  {
   "cell_type": "markdown",
   "metadata": {},
   "source": [
    "Deep learning does the same. It learns abstract representations in series of layers. Representation in each layer is learnt from previous layer's representation. As the network goes deeper (more layers), the abstraction increases and from the representation of final layer(s), the output is inferred.Success of Deep learning is mainly due to its ability to learn representations from data."
   ]
  },
  {
   "cell_type": "code",
   "execution_count": null,
   "metadata": {},
   "outputs": [],
   "source": []
  }
 ],
 "metadata": {
  "kernelspec": {
   "display_name": "Python 3",
   "language": "python",
   "name": "python3"
  },
  "language_info": {
   "codemirror_mode": {
    "name": "ipython",
    "version": 3
   },
   "file_extension": ".py",
   "mimetype": "text/x-python",
   "name": "python",
   "nbconvert_exporter": "python",
   "pygments_lexer": "ipython3",
   "version": "3.7.6"
  }
 },
 "nbformat": 4,
 "nbformat_minor": 4
}
