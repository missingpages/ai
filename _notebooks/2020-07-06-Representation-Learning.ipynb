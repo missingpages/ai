{
 "cells": [
  {
   "cell_type": "markdown",
   "metadata": {},
   "source": [
    "# \"Representation Learning\"\n",
    "> \"An overview of representation learning\"\n",
    "\n",
    "- toc: true\n",
    "- branch: master\n",
    "- badges: true\n",
    "- comments: true\n",
    "- categories: [fastpages, jupyter]\n",
    "- image: images/repl_title.jpg\n",
    "- hide: false\n",
    "- search_exclude: true\n",
    "- metadata_key1: metadata_value1\n",
    "- metadata_key2: metadata_value2"
   ]
  },
  {
   "cell_type": "markdown",
   "metadata": {},
   "source": [
    "\n",
    "## About\n",
    "\n",
    "Representation learning is the process of learning/extracting meaningful representations to make the computations of subsequent ML tasks easier. \n",
    "\n",
    "### Why we need good representations?\n",
    "\n",
    "Success of any machine learning method depends on the representation of data. Better the representation, easier for the machine learning algorithm to interpret the data, to produce accurate results. \n",
    "\n",
    "Assume you are asked to write a program, that should return \"True\" if the input no is divisible by 2, otherwise \"False\". Just think how you would write it.\n",
    "\n",
    "Now if i pass the input no as a \"Roman numeral\" (say XXVIII representing 28) would your program still output correct result?\n",
    "\n",
    "Most of our programs struggle to interpret the representation and so may fail to give desired results. However if the input is represented as decimal integer, the output would be correct\n",
    "\n"
   ]
  },
  {
   "cell_type": "markdown",
   "metadata": {},
   "source": [
    "\n"
   ]
  },
  {
   "cell_type": "markdown",
   "metadata": {},
   "source": [
    "![](my_icons/image1.jpg)"
   ]
  },
  {
   "cell_type": "markdown",
   "metadata": {},
   "source": [
    "In the same way, ML algorithms would also NOT produce accurate results if the data represenation is not good."
   ]
  },
  {
   "cell_type": "markdown",
   "metadata": {},
   "source": [
    "### what if the representation is not learnt?\n"
   ]
  },
  {
   "cell_type": "markdown",
   "metadata": {},
   "source": [
    "Think about classic ML algorithms like Decision trees, Random forests, Naive bayes etc. They dont learn representations from input data. All they do is map input features to output in their own way.\n",
    "Without learning representations, these algorithms rely on Feature Engineering \n",
    "\n",
    "Feature Engineering ensures selection of data features that are important to achieve the particular ML task.\n",
    "With feature engineering, the human knowledge about the task, especially the factors influencing/causing the tasks are passed on to the ML algorithm\n",
    "    \n",
    "> For eg. Lets take the example of IRIS flower classification task.Algorithms would struggle to classify if the features are irrelevant. It is beacuse the features were carefully chosen with the help of the domain experts (thanks to feature engineering) the algorithms could predict decently. "
   ]
  },
  {
   "cell_type": "markdown",
   "metadata": {},
   "source": [
    "![](my_icons/image-5.jpg)"
   ]
  },
  {
   "cell_type": "markdown",
   "metadata": {},
   "source": []
  }
 ],
 "metadata": {
  "kernelspec": {
   "display_name": "Python 3",
   "language": "python",
   "name": "python3"
  },
  "language_info": {
   "codemirror_mode": {
    "name": "ipython",
    "version": 3
   },
   "file_extension": ".py",
   "mimetype": "text/x-python",
   "name": "python",
   "nbconvert_exporter": "python",
   "pygments_lexer": "ipython3",
   "version": "3.7.6"
  }
 },
 "nbformat": 4,
 "nbformat_minor": 4
}
