{
 "cells": [
  {
   "cell_type": "markdown",
   "metadata": {},
   "source": [
    "# \"Representation Learning\"\n",
    "> \"An overview of representation learning\"\n",
    "\n",
    "- toc: true\n",
    "- branch: master\n",
    "- badges: true\n",
    "- comments: true\n",
    "- categories: [fastpages, jupyter]\n",
    "- image: images/repl_title.jpg\n",
    "- hide: false\n",
    "- search_exclude: true\n",
    "- metadata_key1: metadata_value1\n",
    "- metadata_key2: metadata_value2"
   ]
  },
  {
   "cell_type": "markdown",
   "metadata": {},
   "source": [
    "\n",
    "## About\n",
    "\n",
    "> Representation learning is the process of learning/extracting meaningful representations from input data so that subsequent ML tasks can embrace it to make accurate predictions\n",
    "We will see the underlying factors that make a representation meaningful for ML tasks in this blog post.\n",
    "\n",
    "### Why we need good representations?\n",
    "\n",
    "> Success of any machine learning method depends on the representation of data. Better the representation, easier for the machine learning algorithm to interpret the data, to produce accurate results. \n",
    "\n",
    "> Assume you are asked to write a program, that should return \"True\" if the input no is divisible by 2, otherwise \"False\". Just think how you would write it.\n",
    "\n",
    "> Now if i pass the input no as a \"Roman numeral\" (say XXVIII representing 28) would your program still output correct result?\n",
    "\n",
    "> Most of our programs struggle to interpret the representation and so may fail to give desired results. However if the input is represented as decimal integer, the output would be correct\n",
    "\n",
    "> In the same way, ML algorithms would also NOT produce accurate results if the data represenation is not good."
   ]
  },
  {
   "cell_type": "markdown",
   "metadata": {},
   "source": [
    "\n"
   ]
  },
  {
   "cell_type": "markdown",
   "metadata": {},
   "source": [
    "####  Feature Engineering\n",
    "> Many ML methods are not capable enough to extract meanigful representation from data .Machine learning algorithms, hence heavily dependent on the data representation"
   ]
  },
  {
   "cell_type": "code",
   "execution_count": null,
   "metadata": {},
   "outputs": [],
   "source": []
  }
 ],
 "metadata": {
  "kernelspec": {
   "display_name": "Python 3",
   "language": "python",
   "name": "python3"
  },
  "language_info": {
   "codemirror_mode": {
    "name": "ipython",
    "version": 3
   },
   "file_extension": ".py",
   "mimetype": "text/x-python",
   "name": "python",
   "nbconvert_exporter": "python",
   "pygments_lexer": "ipython3",
   "version": "3.7.6"
  }
 },
 "nbformat": 4,
 "nbformat_minor": 4
}
