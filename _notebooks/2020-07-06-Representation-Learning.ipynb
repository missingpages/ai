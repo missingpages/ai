{
 "cells": [
  {
   "cell_type": "markdown",
   "metadata": {},
   "source": [
    "# \"Representation Learning\"\n",
    "> \"An overview of representation learning\"\n",
    "\n",
    "- toc: true\n",
    "- branch: master\n",
    "- badges: true\n",
    "- comments: true\n",
    "- categories: [fastpages, jupyter]\n",
    "- image: images/repl_title.jpg\n",
    "- hide: false\n",
    "- search_exclude: true\n",
    "- metadata_key1: metadata_value1\n",
    "- metadata_key2: metadata_value2"
   ]
  },
  {
   "cell_type": "markdown",
   "metadata": {},
   "source": [
    "Success of any machine learning method depends on the representation of data. Better the representation, easier for the machine learning algorithm to interpret the data, to produce accurate results. \n"
   ]
  },
  {
   "cell_type": "markdown",
   "metadata": {},
   "source": [
    "Assume you are asked to write a program, that should return \"True\" if the input no is divisible by 2, otherwise \"False\". Just think how you would write it.\n",
    "\n",
    "Now if i pass the input no as a \"Roman numeral\" (say XXVIII representing 28) would your program still output correct result?\n",
    "\n",
    "Most of our programs struggle to interpret the representation and so fail to give desired results. Hence, we all would agree that 28 is better representation than XXVIII. \n",
    "\n",
    "In the same way, ML algorithms would also NOT produce accurate results if the data represenation is not good.\n"
   ]
  },
  {
   "cell_type": "markdown",
   "metadata": {},
   "source": [
    "### Need of Feature Engineering\n",
    "> Machine"
   ]
  },
  {
   "cell_type": "code",
   "execution_count": null,
   "metadata": {},
   "outputs": [],
   "source": []
  }
 ],
 "metadata": {
  "kernelspec": {
   "display_name": "Python 3",
   "language": "python",
   "name": "python3"
  },
  "language_info": {
   "codemirror_mode": {
    "name": "ipython",
    "version": 3
   },
   "file_extension": ".py",
   "mimetype": "text/x-python",
   "name": "python",
   "nbconvert_exporter": "python",
   "pygments_lexer": "ipython3",
   "version": "3.7.6"
  }
 },
 "nbformat": 4,
 "nbformat_minor": 4
}
